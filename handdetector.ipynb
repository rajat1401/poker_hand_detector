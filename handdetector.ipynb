{
 "cells": [
  {
   "cell_type": "code",
   "execution_count": null,
   "metadata": {},
   "outputs": [],
   "source": [
    "import numpy as np\n",
    "import pandas as pd\n",
    "from matplotlib import pyplot as plt\n",
    "cardDict= {'2':2, '3':3, '4':4, '5':5, '6':6, '7':7, '8':8, '9':9, '10':10, 'J':11, 'Q':12, 'K':13, 'A':14}\n",
    "suitDict= {'Hearts':0, 'Diamond':1, 'Spades':2, 'Clubs':3}"
   ]
  },
  {
   "cell_type": "code",
   "execution_count": 3,
   "metadata": {},
   "outputs": [],
   "source": [
    "def check_royal_flush(cards, countmat):\n",
    "    for i in range(len(countmat)):\n",
    "        if(sum(countmat[i][-5:])== 5):\n",
    "            return True\n",
    "    return False"
   ]
  },
  {
   "cell_type": "code",
   "execution_count": 4,
   "metadata": {},
   "outputs": [],
   "source": [
    "def check_straight_flush(cards, countmat):\n",
    "    for i in range(len(countmat)):\n",
    "        for j in range(1, 7):\n",
    "            if(sum(countmat[i][j:j+5])== 5):\n",
    "                return True\n",
    "        if(sum(countmat[i][0:4])== 4 and countmat[i][12]== 1):\n",
    "            return True\n",
    "    return False"
   ]
  },
  {
   "cell_type": "code",
   "execution_count": 5,
   "metadata": {},
   "outputs": [],
   "source": [
    "def check_four_kind(cards, countmat):\n",
    "    for i in range(len(countmat[0])):\n",
    "        if(sum(countmat[:, i])== 4):\n",
    "            return True\n",
    "    return False"
   ]
  },
  {
   "cell_type": "code",
   "execution_count": 10,
   "metadata": {},
   "outputs": [],
   "source": [
    "def check_full_house(cards, countmat):\n",
    "    for i in range(len(countmat[0])):\n",
    "        for j in range(len(countmat[0])):\n",
    "            if(sum(countmat[:, i])== 3 and sum(countmat[:, j])== 2):\n",
    "                return True\n",
    "    return False"
   ]
  },
  {
   "cell_type": "code",
   "execution_count": 8,
   "metadata": {},
   "outputs": [],
   "source": [
    "def check_flush(cards, countmat):\n",
    "    for i in range(len(countmat)):\n",
    "        if(sum(countmat[i])>= 5):\n",
    "            return True\n",
    "    return False"
   ]
  },
  {
   "cell_type": "code",
   "execution_count": 9,
   "metadata": {},
   "outputs": [],
   "source": [
    "def check_straight(cards, countmat):\n",
    "    cardcounts= np.zeros(13)\n",
    "    for i in range(len(cards)):\n",
    "        cardcounts[cardDict[cards[i][0]]-2]+= 1\n",
    "    for i in range(0, 7):\n",
    "        if(sum(cardcounts[i:i+5])>= 5 and max(cardcounts[i:i+5])-min(cardcounts[i:i+5])<= 1):\n",
    "            return True\n",
    "    if(sum(cardcounts[0:4])+cardcounts[12]>= 5 and max(max(cardcounts[0:4]), cardcounts[12])-min(min(cardcounts[0:4]), cardcounts[12])<= 1):\n",
    "        return True\n",
    "    return False"
   ]
  },
  {
   "cell_type": "code",
   "execution_count": 2,
   "metadata": {},
   "outputs": [],
   "source": [
    "def check_three_kind(cards, countmat):\n",
    "    for i in range(len(countmat[0])):\n",
    "        if(sum(countmat[:, i])== 3):\n",
    "            return True\n",
    "    return False"
   ]
  },
  {
   "cell_type": "code",
   "execution_count": 1,
   "metadata": {},
   "outputs": [],
   "source": [
    "def check_two_pairs(cards, countmat):\n",
    "    for i in range(len(countmat[0])):\n",
    "        for j in range(len(countmat[0])):\n",
    "            if(i!= j and sum(countmat[:, i])== 2 and sum(countmat[:, j]== 2)):\n",
    "                return True\n",
    "    return False"
   ]
  },
  {
   "cell_type": "code",
   "execution_count": 6,
   "metadata": {},
   "outputs": [],
   "source": [
    "def check_pair(cards, countmat):\n",
    "    for i in range(len(countmat[0])):\n",
    "        if(sum(countmat[:, i])== 2):\n",
    "            return True\n",
    "    return False"
   ]
  },
  {
   "cell_type": "code",
   "execution_count": 7,
   "metadata": {},
   "outputs": [],
   "source": [
    "def check_high_card(cards, countmat):\n",
    "    counts= np.sum(countmat, axis= 0)\n",
    "    if(sum(counts[-4:])> 0):\n",
    "        return True\n",
    "    return False"
   ]
  },
  {
   "cell_type": "code",
   "execution_count": 11,
   "metadata": {},
   "outputs": [],
   "source": [
    "def handDetector(cards):#list of 7 tuples\n",
    "    countmat= np.zeros((4, 13))\n",
    "    for i in range(len(cards)):\n",
    "        countmat[suitDict[cards[i][1]]][cardDict[cards[i][0]]-2]+= 1\n",
    "    countmat= np.array(countmat)\n",
    "    print (countmat)\n",
    "    \n",
    "    if(check_royal_flush(cards, countmat)):\n",
    "        return \"royal flush\"\n",
    "    if(check_straight_flush(cards, countmat)):\n",
    "        return \"straight flush\"\n",
    "    if(check_four_kind(cards, countmat)):\n",
    "        return \"four of kind\"\n",
    "    if(check_full_house(cards, countmat)):\n",
    "        return \"full house\"\n",
    "    if(check_flush(cards, countmat)):\n",
    "        return \"flush\"\n",
    "    if(check_straight(cards, countmat)):\n",
    "        return \"straight\"\n",
    "    if(check_three_kind(cards, countmat)):\n",
    "        return \"three of kind\"\n",
    "    if(check_two_pairs(cards, countmat)):\n",
    "        return \"two pairs\"\n",
    "    if(check_pair(cards, countmat)):\n",
    "        return \"pair\"\n",
    "    if(check_high_card(cards, countmat)):\n",
    "        return \"high card\"\n",
    "    return \"bro just call it please!\""
   ]
  }
 ],
 "metadata": {
  "kernelspec": {
   "display_name": "Python 3",
   "language": "python",
   "name": "python3"
  },
  "language_info": {
   "codemirror_mode": {
    "name": "ipython",
    "version": 3
   },
   "file_extension": ".py",
   "mimetype": "text/x-python",
   "name": "python",
   "nbconvert_exporter": "python",
   "pygments_lexer": "ipython3",
   "version": "3.5.2"
  }
 },
 "nbformat": 4,
 "nbformat_minor": 2
}
