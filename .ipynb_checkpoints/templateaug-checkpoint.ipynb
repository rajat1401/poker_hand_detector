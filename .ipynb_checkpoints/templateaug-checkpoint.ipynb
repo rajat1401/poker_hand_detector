{
 "cells": [
  {
   "cell_type": "code",
   "execution_count": 1,
   "metadata": {},
   "outputs": [],
   "source": [
    "import numpy as np\n",
    "import pandas as pd\n",
    "from matplotlib import pyplot as plt\n",
    "import cv2\n",
    "import skimage\n",
    "import random\n",
    "import os"
   ]
  },
  {
   "cell_type": "code",
   "execution_count": 2,
   "metadata": {},
   "outputs": [],
   "source": [
    "def rotateImage(image, angle):\n",
    "    image_center = tuple(np.array(image.shape[1::-1]) / 2)\n",
    "    rot_mat = cv2.getRotationMatrix2D(image_center, angle, 1.0)\n",
    "    result = cv2.warpAffine(image, rot_mat, image.shape[1::-1], flags=cv2.INTER_LINEAR)\n",
    "    return result"
   ]
  },
  {
   "cell_type": "code",
   "execution_count": 3,
   "metadata": {},
   "outputs": [],
   "source": [
    "def aug(folder):\n",
    "    img= folder + '1.png'\n",
    "    imarray= np.array(cv2.imread(img, 0))\n",
    "    print (imarray.shape)\n",
    "    degrees= np.arange(-30, 30, 2)[:27]\n",
    "    for i in range(1, 28):\n",
    "        fname= folder + str(i+1) + '.png'\n",
    "        imt= rotateImage(imarray, degrees[i-1])\n",
    "        cv2.imwrite(fname, imt)\n",
    "    cv2.imwrite(folder + str(29) + '.png', np.fliplr(imarray))\n",
    "    cv2.imwrite(folder + str(30) + '.png', np.flipud(imarray))"
   ]
  },
  {
   "cell_type": "code",
   "execution_count": 7,
   "metadata": {},
   "outputs": [
    {
     "name": "stdout",
     "output_type": "stream",
     "text": [
      "(29, 23)\n"
     ]
    }
   ],
   "source": [
    "aug('./templates/suits/Spades/')"
   ]
  },
  {
   "cell_type": "code",
   "execution_count": null,
   "metadata": {},
   "outputs": [],
   "source": []
  }
 ],
 "metadata": {
  "kernelspec": {
   "display_name": "Python 3",
   "language": "python",
   "name": "python3"
  },
  "language_info": {
   "codemirror_mode": {
    "name": "ipython",
    "version": 3
   },
   "file_extension": ".py",
   "mimetype": "text/x-python",
   "name": "python",
   "nbconvert_exporter": "python",
   "pygments_lexer": "ipython3",
   "version": "3.5.2"
  }
 },
 "nbformat": 4,
 "nbformat_minor": 2
}
